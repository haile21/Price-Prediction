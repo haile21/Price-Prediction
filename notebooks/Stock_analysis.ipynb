{
 "cells": [
  {
   "cell_type": "markdown",
   "id": "9d99adf8",
   "metadata": {},
   "source": [
    "Import"
   ]
  },
  {
   "cell_type": "code",
   "id": "8e418f64",
   "metadata": {
    "ExecuteTime": {
     "end_time": "2025-06-03T15:41:10.270590Z",
     "start_time": "2025-06-03T15:41:10.260936Z"
    }
   },
   "source": [
    "import sys\n",
    "from pathlib import Path"
   ],
   "outputs": [],
   "execution_count": 6
  },
  {
   "cell_type": "markdown",
   "id": "3799cafb",
   "metadata": {},
   "source": [
    "Load Data"
   ]
  },
  {
   "cell_type": "code",
   "id": "0592a062",
   "metadata": {
    "ExecuteTime": {
     "end_time": "2025-06-03T15:41:17.806040Z",
     "start_time": "2025-06-03T15:41:14.381472Z"
    }
   },
   "source": [
    "sys.path.append(str(Path().resolve().parent))\n",
    "\n",
    "from src.stock_analysis import load_stock_data, calculate_indicators, plot_price_and_ma, plot_rsi, plot_macd\n",
    "\n",
    "# Load data\n",
    "stock_data = load_stock_data('AAPL')"
   ],
   "outputs": [
    {
     "name": "stdout",
     "output_type": "stream",
     "text": [
      "YF.download() has changed argument auto_adjust default to True\n"
     ]
    },
    {
     "name": "stderr",
     "output_type": "stream",
     "text": [
      "[*********************100%***********************]  1 of 1 completed"
     ]
    },
    {
     "name": "stdout",
     "output_type": "stream",
     "text": [
      "Loaded AAPL data and saved to C:\\Users\\Haile\\Documents\\kFT-AIM\\Price-Prediction\\data\\AAPL_stock.csv\n"
     ]
    },
    {
     "name": "stderr",
     "output_type": "stream",
     "text": [
      "\n"
     ]
    }
   ],
   "execution_count": 7
  },
  {
   "cell_type": "markdown",
   "id": "9522ec47",
   "metadata": {},
   "source": [
    "Calculate technical indicators"
   ]
  },
  {
   "cell_type": "code",
   "id": "c9daae67",
   "metadata": {
    "ExecuteTime": {
     "end_time": "2025-06-03T15:41:56.925896Z",
     "start_time": "2025-06-03T15:41:56.899183Z"
    }
   },
   "source": [
    "if stock_data is not None:\n",
    "    stock_data = calculate_indicators(stock_data)\n",
    "    print(stock_data[['Close', 'MA', 'RSI', 'MACD', 'MACD_Signal', 'MACD_Hist']].tail())"
   ],
   "outputs": [
    {
     "name": "stdout",
     "output_type": "stream",
     "text": [
      "Calculated indicators: MA, RSI, MACD\n",
      "Price            Close          MA        RSI      MACD MACD_Signal MACD_Hist\n",
      "Ticker            AAPL                                                       \n",
      "Date                                                                         \n",
      "2025-05-22  201.360001  206.318570  45.051124 -0.244382   -0.208987 -0.035395\n",
      "2025-05-23  195.270004  205.631774  45.488575 -1.065059   -0.380201 -0.684858\n",
      "2025-05-27  200.210007  205.149035  52.344822 -1.301828   -0.564526 -0.737301\n",
      "2025-05-28  200.419998  204.623365  55.568996 -1.455743   -0.742770 -0.712973\n",
      "2025-05-29  199.949997  204.009779  53.487333 -1.597235   -0.913663 -0.683573\n"
     ]
    }
   ],
   "execution_count": 8
  },
  {
   "cell_type": "markdown",
   "id": "1f3d1a45",
   "metadata": {},
   "source": [
    "Plot price and MA"
   ]
  },
  {
   "cell_type": "code",
   "id": "701f4e84",
   "metadata": {
    "ExecuteTime": {
     "end_time": "2025-06-03T15:42:08.996493Z",
     "start_time": "2025-06-03T15:42:08.750482Z"
    }
   },
   "source": [
    "if stock_data is not None:\n",
    "    plot_price_and_ma(stock_data, ticker='AAPL')"
   ],
   "outputs": [
    {
     "name": "stdout",
     "output_type": "stream",
     "text": [
      "Saved price and MA plot to reports/price_ma_plot.png\n"
     ]
    }
   ],
   "execution_count": 9
  },
  {
   "cell_type": "markdown",
   "id": "d8d47c5d",
   "metadata": {},
   "source": [
    "Plot RSI"
   ]
  },
  {
   "cell_type": "code",
   "id": "18948296",
   "metadata": {
    "ExecuteTime": {
     "end_time": "2025-06-03T15:42:23.742727Z",
     "start_time": "2025-06-03T15:42:23.649144Z"
    }
   },
   "source": [
    "if stock_data is not None:\n",
    "    plot_rsi(stock_data, ticker='AAPL')"
   ],
   "outputs": [
    {
     "name": "stdout",
     "output_type": "stream",
     "text": [
      "Saved RSI plot to reports/rsi_plot.png\n"
     ]
    }
   ],
   "execution_count": 10
  },
  {
   "cell_type": "markdown",
   "id": "36a46525",
   "metadata": {},
   "source": [
    "Plot MACD"
   ]
  },
  {
   "cell_type": "code",
   "id": "7b40a3a7",
   "metadata": {
    "ExecuteTime": {
     "end_time": "2025-06-03T15:42:29.951276Z",
     "start_time": "2025-06-03T15:42:29.652864Z"
    }
   },
   "source": [
    "if stock_data is not None:\n",
    "    plot_macd(stock_data, ticker='AAPL')\n"
   ],
   "outputs": [
    {
     "name": "stdout",
     "output_type": "stream",
     "text": [
      "Saved MACD plot to reports/macd_plot.png\n"
     ]
    }
   ],
   "execution_count": 11
  }
 ],
 "metadata": {
  "kernelspec": {
   "display_name": ".venv",
   "language": "python",
   "name": "python3"
  },
  "language_info": {
   "codemirror_mode": {
    "name": "ipython",
    "version": 3
   },
   "file_extension": ".py",
   "mimetype": "text/x-python",
   "name": "python",
   "nbconvert_exporter": "python",
   "pygments_lexer": "ipython3",
   "version": "3.13.1"
  }
 },
 "nbformat": 4,
 "nbformat_minor": 5
}
