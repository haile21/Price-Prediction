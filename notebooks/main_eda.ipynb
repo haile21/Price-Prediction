{
 "cells": [
  {
   "cell_type": "markdown",
   "id": "2da7606e",
   "metadata": {},
   "source": [
    "Import Lib"
   ]
  },
  {
   "cell_type": "code",
   "id": "04f002d9",
   "metadata": {
    "ExecuteTime": {
     "end_time": "2025-06-04T07:07:08.930145Z",
     "start_time": "2025-06-04T07:07:05.966987Z"
    }
   },
   "source": [
    "import sys\n",
    "from pathlib import Path\n",
    "import nltk\n",
    "nltk.download('punkt_tab')"
   ],
   "outputs": [
    {
     "name": "stderr",
     "output_type": "stream",
     "text": [
      "[nltk_data] Downloading package punkt_tab to\n",
      "[nltk_data]     C:\\Users\\Haile\\AppData\\Roaming\\nltk_data...\n",
      "[nltk_data]   Unzipping tokenizers\\punkt_tab.zip.\n"
     ]
    },
    {
     "data": {
      "text/plain": [
       "True"
      ]
     },
     "execution_count": 6,
     "metadata": {},
     "output_type": "execute_result"
    }
   ],
   "execution_count": 6
  },
  {
   "cell_type": "markdown",
   "id": "0561e51b",
   "metadata": {},
   "source": [
    "Load Data"
   ]
  },
  {
   "cell_type": "code",
   "id": "bb293f8b",
   "metadata": {
    "ExecuteTime": {
     "end_time": "2025-06-04T07:05:58.456270Z",
     "start_time": "2025-06-04T07:05:49.180111Z"
    }
   },
   "source": [
    "sys.path.append(str(Path().resolve().parent))\n",
    "\n",
    "from src.eda import (\n",
    "    load_data,\n",
    "    analyze_headline_length,\n",
    "    analyze_publishers,\n",
    "    analyze_publication_dates,\n",
    "    analyze_keywords,\n",
    "    analyze_publisher_domains\n",
    ")\n",
    "\n",
    "df = load_data(\"../data/raw_analyst_ratings.csv\")\n",
    "df.head()"
   ],
   "outputs": [
    {
     "data": {
      "text/plain": [
       "   Unnamed: 0                                           headline  \\\n",
       "0           0            Stocks That Hit 52-Week Highs On Friday   \n",
       "1           1         Stocks That Hit 52-Week Highs On Wednesday   \n",
       "2           2                      71 Biggest Movers From Friday   \n",
       "3           3       46 Stocks Moving In Friday's Mid-Day Session   \n",
       "4           4  B of A Securities Maintains Neutral on Agilent...   \n",
       "\n",
       "                                                 url          publisher  \\\n",
       "0  https://www.benzinga.com/news/20/06/16190091/s...  Benzinga Insights   \n",
       "1  https://www.benzinga.com/news/20/06/16170189/s...  Benzinga Insights   \n",
       "2  https://www.benzinga.com/news/20/05/16103463/7...         Lisa Levin   \n",
       "3  https://www.benzinga.com/news/20/05/16095921/4...         Lisa Levin   \n",
       "4  https://www.benzinga.com/news/20/05/16095304/b...         Vick Meyer   \n",
       "\n",
       "                        date stock  \n",
       "0  2020-06-05 10:30:54-04:00     A  \n",
       "1  2020-06-03 10:45:20-04:00     A  \n",
       "2  2020-05-26 04:30:07-04:00     A  \n",
       "3  2020-05-22 12:45:06-04:00     A  \n",
       "4  2020-05-22 11:38:59-04:00     A  "
      ],
      "text/html": [
       "<div>\n",
       "<style scoped>\n",
       "    .dataframe tbody tr th:only-of-type {\n",
       "        vertical-align: middle;\n",
       "    }\n",
       "\n",
       "    .dataframe tbody tr th {\n",
       "        vertical-align: top;\n",
       "    }\n",
       "\n",
       "    .dataframe thead th {\n",
       "        text-align: right;\n",
       "    }\n",
       "</style>\n",
       "<table border=\"1\" class=\"dataframe\">\n",
       "  <thead>\n",
       "    <tr style=\"text-align: right;\">\n",
       "      <th></th>\n",
       "      <th>Unnamed: 0</th>\n",
       "      <th>headline</th>\n",
       "      <th>url</th>\n",
       "      <th>publisher</th>\n",
       "      <th>date</th>\n",
       "      <th>stock</th>\n",
       "    </tr>\n",
       "  </thead>\n",
       "  <tbody>\n",
       "    <tr>\n",
       "      <th>0</th>\n",
       "      <td>0</td>\n",
       "      <td>Stocks That Hit 52-Week Highs On Friday</td>\n",
       "      <td>https://www.benzinga.com/news/20/06/16190091/s...</td>\n",
       "      <td>Benzinga Insights</td>\n",
       "      <td>2020-06-05 10:30:54-04:00</td>\n",
       "      <td>A</td>\n",
       "    </tr>\n",
       "    <tr>\n",
       "      <th>1</th>\n",
       "      <td>1</td>\n",
       "      <td>Stocks That Hit 52-Week Highs On Wednesday</td>\n",
       "      <td>https://www.benzinga.com/news/20/06/16170189/s...</td>\n",
       "      <td>Benzinga Insights</td>\n",
       "      <td>2020-06-03 10:45:20-04:00</td>\n",
       "      <td>A</td>\n",
       "    </tr>\n",
       "    <tr>\n",
       "      <th>2</th>\n",
       "      <td>2</td>\n",
       "      <td>71 Biggest Movers From Friday</td>\n",
       "      <td>https://www.benzinga.com/news/20/05/16103463/7...</td>\n",
       "      <td>Lisa Levin</td>\n",
       "      <td>2020-05-26 04:30:07-04:00</td>\n",
       "      <td>A</td>\n",
       "    </tr>\n",
       "    <tr>\n",
       "      <th>3</th>\n",
       "      <td>3</td>\n",
       "      <td>46 Stocks Moving In Friday's Mid-Day Session</td>\n",
       "      <td>https://www.benzinga.com/news/20/05/16095921/4...</td>\n",
       "      <td>Lisa Levin</td>\n",
       "      <td>2020-05-22 12:45:06-04:00</td>\n",
       "      <td>A</td>\n",
       "    </tr>\n",
       "    <tr>\n",
       "      <th>4</th>\n",
       "      <td>4</td>\n",
       "      <td>B of A Securities Maintains Neutral on Agilent...</td>\n",
       "      <td>https://www.benzinga.com/news/20/05/16095304/b...</td>\n",
       "      <td>Vick Meyer</td>\n",
       "      <td>2020-05-22 11:38:59-04:00</td>\n",
       "      <td>A</td>\n",
       "    </tr>\n",
       "  </tbody>\n",
       "</table>\n",
       "</div>"
      ]
     },
     "execution_count": 4,
     "metadata": {},
     "output_type": "execute_result"
    }
   ],
   "execution_count": 4
  },
  {
   "cell_type": "markdown",
   "id": "8b2bb27f",
   "metadata": {},
   "source": [
    "Headline Length Analysis"
   ]
  },
  {
   "cell_type": "code",
   "id": "d456c847",
   "metadata": {
    "ExecuteTime": {
     "end_time": "2025-06-03T15:17:14.393511Z",
     "start_time": "2025-06-03T15:17:13.270218Z"
    }
   },
   "source": [
    "headline_stats = analyze_headline_length(df)"
   ],
   "outputs": [
    {
     "name": "stdout",
     "output_type": "stream",
     "text": [
      "Headline Length Statistics:\n",
      "count    1.407328e+06\n",
      "mean     7.312051e+01\n",
      "std      4.073531e+01\n",
      "min      3.000000e+00\n",
      "25%      4.700000e+01\n",
      "50%      6.400000e+01\n",
      "75%      8.700000e+01\n",
      "max      5.120000e+02\n",
      "Name: headline_length, dtype: float64\n"
     ]
    }
   ],
   "execution_count": 6
  },
  {
   "metadata": {
    "ExecuteTime": {
     "end_time": "2025-06-03T15:20:51.990788Z",
     "start_time": "2025-06-03T15:20:51.988283Z"
    }
   },
   "cell_type": "code",
   "source": "",
   "id": "bbed0036613430f1",
   "outputs": [],
   "execution_count": null
  },
  {
   "cell_type": "markdown",
   "id": "7fa3b568",
   "metadata": {},
   "source": [
    "Publisher analysis"
   ]
  },
  {
   "cell_type": "code",
   "id": "189d37bc",
   "metadata": {
    "ExecuteTime": {
     "end_time": "2025-06-03T15:17:23.069946Z",
     "start_time": "2025-06-03T15:17:22.905125Z"
    }
   },
   "source": [
    "publish_count = analyze_publishers(df)"
   ],
   "outputs": [
    {
     "name": "stdout",
     "output_type": "stream",
     "text": [
      "Top 10 Publishers:\n",
      "publisher\n",
      "Paul Quintaro        228373\n",
      "Lisa Levin           186979\n",
      "Benzinga Newsdesk    150484\n",
      "Charles Gross         96732\n",
      "Monica Gerson         82380\n",
      "Eddie Staley          57254\n",
      "Hal Lindon            49047\n",
      "ETF Professor         28489\n",
      "Juan Lopez            28438\n",
      "Benzinga Staff        28114\n",
      "Name: count, dtype: int64\n"
     ]
    }
   ],
   "execution_count": 7
  },
  {
   "cell_type": "markdown",
   "id": "e5edcf1a",
   "metadata": {},
   "source": [
    "Publisher Date analysis"
   ]
  },
  {
   "cell_type": "code",
   "id": "d812f617",
   "metadata": {},
   "source": [
    "date_count = analyze_publication_dates(df)"
   ],
   "outputs": [],
   "execution_count": null
  },
  {
   "cell_type": "markdown",
   "id": "e5980e75",
   "metadata": {},
   "source": [
    "Keyword analysis"
   ]
  },
  {
   "cell_type": "code",
   "id": "1ffd4042",
   "metadata": {
    "ExecuteTime": {
     "end_time": "2025-06-04T07:08:46.646508Z",
     "start_time": "2025-06-04T07:07:22.952179Z"
    }
   },
   "source": "common_word = analyze_keywords(df)",
   "outputs": [
    {
     "name": "stdout",
     "output_type": "stream",
     "text": [
      "Top 20 Common Words:\n",
      "[(',', 914077), ('$', 738405), ('to', 402738), ('of', 269795), (':', 258755), ('on', 244962), ('for', 238797), ('in', 220392), ('the', 211608), (\"'s\", 206646), ('(', 187010), (')', 186981), ('.', 165707), ('stocks', 161702), ('%', 139486), ('vs', 138835), (';', 130796), ('eps', 128801), ('est', 122289), ('from', 120688)]\n"
     ]
    }
   ],
   "execution_count": 7
  },
  {
   "cell_type": "markdown",
   "id": "2615e87c",
   "metadata": {},
   "source": [
    "Publisher domain analysis"
   ]
  },
  {
   "cell_type": "code",
   "id": "8d501cb6",
   "metadata": {
    "ExecuteTime": {
     "end_time": "2025-06-03T15:18:42.128923Z",
     "start_time": "2025-06-03T15:18:41.701136Z"
    }
   },
   "source": [
    "domain_counts = analyze_publisher_domains(df)"
   ],
   "outputs": [
    {
     "name": "stdout",
     "output_type": "stream",
     "text": [
      "Top 10 Publisher Domains:\n",
      "publisher_domain\n",
      "benzinga.com              7937\n",
      "gmail.com                  139\n",
      "andyswan.com                 5\n",
      "investdiva.com               2\n",
      "tothetick.com                2\n",
      "eosdetroit.io                1\n",
      "forextraininggroup.com       1\n",
      "stockmetrix.net              1\n",
      "Name: count, dtype: int64\n"
     ]
    }
   ],
   "execution_count": 12
  }
 ],
 "metadata": {
  "kernelspec": {
   "display_name": ".venv",
   "language": "python",
   "name": "python3"
  },
  "language_info": {
   "codemirror_mode": {
    "name": "ipython",
    "version": 3
   },
   "file_extension": ".py",
   "mimetype": "text/x-python",
   "name": "python",
   "nbconvert_exporter": "python",
   "pygments_lexer": "ipython3",
   "version": "3.13.1"
  }
 },
 "nbformat": 4,
 "nbformat_minor": 5
}
